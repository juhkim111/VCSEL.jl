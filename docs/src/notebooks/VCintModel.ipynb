{
 "cells": [
  {
   "cell_type": "markdown",
   "metadata": {
    "collapsed": true
   },
   "source": [
    "# VCintModel"
   ]
  },
  {
   "cell_type": "markdown",
   "metadata": {},
   "source": [
    "We have the following variance components model: \n",
    "\n",
    "```math\n",
    "Y = X\\beta + Z_1\\gamma_1 + E Z_1 \\alpha_1 +  \\ldots + Z_m\\gamma_m + E Z_m \\alpha_m + \\epsilon  \\hspace{8em} (1)\n",
    "```\n",
    "where \n",
    "\n",
    "* ``Y``: ``n\\times 1`` vector of continuous response  \n",
    "* ``X``: ``n\\times p`` known design matrix for fixed effects \n",
    "* ``Z_i``: ``n\\times q_i`` known design matrix with corresponding random effects ``\\gamma_i``\n",
    "* ``\\beta``: ``p \\times 1`` unknown vector of fixed effects parameters \n",
    "* ``\\gamma_i``: ``q_i \\times 1`` unknown vector of random main effects parameters with ``\\gamma_i \\sim \\text{Normal}(0, \\sigma^2_{i1} I_{q_i})``\n",
    "    * ``\\sigma^2_{i1}``: $i$-th main effect variance component, ``i=1,\\ldots, m``\n",
    "* ``\\alpha_i``: ``q_i \\times 1`` unknown vector of random interaction effects parameters with ``\\alpha_i \\sim \\text{Normal}(0, \\sigma^2_{i2} I_{q_i})``\n",
    "    - ``\\sigma^2_{i2}``: $i$-th interaction effect variance component, ``i=1,\\ldots, m``\n",
    "* ``E``: ``n\\times n`` diagonal matrix whose diagonal entries are factors that interact with each main effect (``Z_i``). \n",
    "* ``\\epsilon``: ``n\\times 1`` vector of errors with ``\\epsilon \\sim \\text{Normal}(0, \\sigma^2_0 I_n)``\n",
    "    - ``\\sigma^2_0``: residual or intercept variance component\n",
    "\n",
    "Equivalently, we can write (1) as\n",
    "\n",
    "\n",
    "```math\n",
    "Y \\sim \\text{Normal}(X\\beta, \\sigma^2_{11} V_{11} +  \\sigma^2_{12} V_{12}+ \\cdots + \\sigma^2_{m1} V_{m1} + \\sigma^2_{m2} V_{m2} + \\sigma^2_0 V_0),  \\hspace{3em} (2)\n",
    "```\n",
    "\n",
    "where ``V_{i1} = Z_{i1} Z_{i1}^T`` and ``V_{i2} = E Z_{i1} Z_{i1}^T E^T.``\n",
    "\n",
    "\n",
    "\n",
    "In the equation (2), \n",
    "\n",
    "* ``Y``, ``X``, and ``V_{11},V_{12},...,V_{m1},V_{m2}, V_0`` form the **data** and \n",
    "\n",
    "* ``\\beta`` and ``\\sigma^2_{11},\\sigma^2_{12}...,\\sigma^2_{m1},\\sigma^2_{m2},\\sigma_0^2`` are **parameters**. \n",
    "\n"
   ]
  },
  {
   "cell_type": "markdown",
   "metadata": {},
   "source": [
    "## Goal\n",
    "\n",
    "We want to identify sets of variance components (``\\sigma^2_{11},\\sigma^2_{12}``) that are associated with response $Y$. This can be achieved by VCSEL.\n",
    "\n",
    "By selecting or not selecting pairs of variance components (main effect and interaction effect variance components), we obtain main variance components associated with response while accounting for interaction effect. "
   ]
  },
  {
   "cell_type": "markdown",
   "metadata": {},
   "source": [
    "## Steps"
   ]
  },
  {
   "cell_type": "markdown",
   "metadata": {},
   "source": [
    "### Step 0: Load the package"
   ]
  },
  {
   "cell_type": "markdown",
   "metadata": {},
   "source": [
    "If not installed, follow the [Installation](@ref) instruction on main page. Then load the package:"
   ]
  },
  {
   "cell_type": "markdown",
   "metadata": {},
   "source": [
    "```julia\n",
    "using VCSEL\n",
    "```"
   ]
  },
  {
   "cell_type": "markdown",
   "metadata": {},
   "source": [
    "### Step 1: Construct a model with data \n",
    "\n",
    "Construct an instance of [`VCintModel`](@ref), which requires users to supply \n",
    "\n",
    "* `Y`: `n x 1` response vector \n",
    "* `X`: `n x p` covariate matrix (if exists)\n",
    "* `V=[V[1],...,V[m],V[m+1]]`: a vector of `m+1` `n x n` covariance matrices  \n",
    "* `Vint=[Vint[1],...,Vint[m]]`: a vector of `m` `n x n` covariance matrices."
   ]
  },
  {
   "cell_type": "markdown",
   "metadata": {},
   "source": [
    "Example: \n",
    "\n",
    "```julia \n",
    "# initialize VCintModel instance \n",
    "vcm1 = VCintModel(Y, X, V, Vint)\n",
    "vcm2 = VCintModel(Y, V, Vint) # if there's no covariate matrix \n",
    "```"
   ]
  },
  {
   "cell_type": "markdown",
   "metadata": {},
   "source": [
    "`VCintModel` also has the following fields for its parameters: \n",
    "\n",
    "* `B`: `p x d` mean regression coefficients \n",
    "* `Σ = [Σ[1],...,Σ[m],Σ[m+1]]`: variance component parameters for main effects (`Σ[1],...,Σ[m]`) and intercept (`Σ[m+1]`)\n",
    "* `Σint = [Σint[1],...,Σint[m]]`: variance component parameters for interaction effects.\n",
    "\n",
    "By default, the vector of variance component parameters are initialized to be vectors of ones (e.g. `ones(length(V))`, `ones(length(Vint))`). Users can set initial values of their choice in this step if they wish to. "
   ]
  },
  {
   "cell_type": "markdown",
   "metadata": {},
   "source": [
    "Example:\n",
    "\n",
    "```julia\n",
    "Σ = fill(0.5, length(V))\n",
    "Σint = fill(0.5, length(Vint))\n",
    "vcm3 = VCModel(Y, X, V, Vint, Σ, Σint)\n",
    "vcm4 = VCModel(Y, V, Vint, Σ, Σint)\n",
    "```"
   ]
  },
  {
   "cell_type": "markdown",
   "metadata": {},
   "source": [
    "### Step 2: Fit model "
   ]
  },
  {
   "cell_type": "markdown",
   "metadata": {},
   "source": [
    "Call optimization routine [`vcselect!`](@ref) to select variance components at a given tuning parameter $\\lambda$ with some penalty (options: [`NoPenalty()`, `L1Penalty()`, `MCPPenalty()`](https://github.com/JuliaML/PenaltyFunctions.jl#Element-Penalties)).\n"
   ]
  },
  {
   "cell_type": "markdown",
   "metadata": {},
   "source": [
    "Examples:\n",
    "\n",
    "```julia\n",
    "# fit model with lasso (L1) penalty at tuning parameter λ=1.5\n",
    "vcselect!(vcm1; penfun=L1Penalty(), λ=1.5)\n",
    "# fit model with MCP penalty at tuning parameter λ=5.5\n",
    "vcselect!(vcm2; penfun=MCPPenalty(), λ=5.5)\n",
    "```"
   ]
  },
  {
   "cell_type": "markdown",
   "metadata": {},
   "source": [
    "If penalty function is given but tuning parameter  𝜆  is not given,  𝜆  is set to 1.0.\n",
    "\n",
    "Example: \n",
    "\n",
    "```julia \n",
    "# following commands are equivalent \n",
    "vcselect!(vcm3; penfun=L1Penalty()) \n",
    "vcselect!(vcm3; penfun=L1Penalty(), λ=1.0) \n",
    "```"
   ]
  },
  {
   "cell_type": "markdown",
   "metadata": {},
   "source": [
    "If no penalty function is given, it fits model without any penalty, which is same as penfun=NoPenalty() or λ=0.\n",
    "\n",
    "Example:\n",
    "\n",
    "```julia\n",
    "# following commands are equivalent \n",
    "vcselect!(vcm4)\n",
    "vcselect!(vcm4; penfun=NoPenalty())\n",
    "vcselect!(vcm4; λ=0)\n",
    "```"
   ]
  },
  {
   "cell_type": "markdown",
   "metadata": {},
   "source": [
    "Estimated parameters can be accessed using the `vcm.Σ` notation.\n",
    "\n",
    "Example:\n",
    "\n",
    "```julia\n",
    "# variance components for main effects\n",
    "vcm1.Σ\n",
    "# variance components for interaction effects\n",
    "vcm1.Σint\n",
    "# mean effects\n",
    "vcm1.β\n",
    "```"
   ]
  },
  {
   "cell_type": "markdown",
   "metadata": {},
   "source": [
    "### Step 2 Alternative: Get solution path "
   ]
  },
  {
   "cell_type": "markdown",
   "metadata": {},
   "source": [
    "If you want to fit a model over a grid of tuning parameter $\\lambda$ values (i.e. obtain solution path), use `vcselectpath!`.\n",
    "\n",
    "For details about the function, go to [`vcselectpath!`](@ref) in API page. \n",
    "\n",
    "If we only supply `VCintModel` instance when calling `vcselectpath!`, it returns the same output as `vcselect!` with `penfun=NoPenalty()`.\n",
    "\n",
    "Here we call `vcselectpath!` with penfun=`L1Penalty()`. Since we do not provide `nλ` or `λpath`, a grid of 100 $\\lambda$ values is generated internally.\n",
    "\n",
    "Example:\n",
    "\n",
    "```julia\n",
    "vcm = VCModel(Y, X, V, Vint)\n",
    "Σ̂path, Σ̂intpath, β̂path, λpath, objpath, niterspath = vcselectpath!(vcm; \n",
    "    penfun=L1Penalty());\n",
    "```"
   ]
  }
 ],
 "metadata": {
  "kernelspec": {
   "display_name": "Julia 1.3.1",
   "language": "julia",
   "name": "julia-1.3"
  },
  "language_info": {
   "file_extension": ".jl",
   "mimetype": "application/julia",
   "name": "julia",
   "version": "1.3.1"
  },
  "toc": {
   "base_numbering": 1,
   "nav_menu": {
    "height": "233px",
    "width": "253px"
   },
   "number_sections": false,
   "sideBar": false,
   "skip_h1_title": true,
   "title_cell": "Table of Contents",
   "title_sidebar": "Contents",
   "toc_cell": false,
   "toc_position": {},
   "toc_section_display": true,
   "toc_window_display": false
  }
 },
 "nbformat": 4,
 "nbformat_minor": 2
}
