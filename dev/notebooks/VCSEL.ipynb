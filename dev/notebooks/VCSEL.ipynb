{
 "cells": [
  {
   "cell_type": "markdown",
   "metadata": {
    "toc": true
   },
   "source": [
    "<h1>Table of Contents<span class=\"tocSkip\"></span></h1>\n",
    "<div class=\"toc\"><ul class=\"toc-item\"><li><span><a href=\"#What-are-variance-components?\" data-toc-modified-id=\"What-are-variance-components?-1\"><span class=\"toc-item-num\">1&nbsp;&nbsp;</span>What are variance components?</a></span></li><li><span><a href=\"#Testing-for-zero-variance-component\" data-toc-modified-id=\"Testing-for-zero-variance-component-2\"><span class=\"toc-item-num\">2&nbsp;&nbsp;</span>Testing for zero variance component</a></span></li><li><span><a href=\"#What-if-there-are-multiple-variance-components?\" data-toc-modified-id=\"What-if-there-are-multiple-variance-components?-3\"><span class=\"toc-item-num\">3&nbsp;&nbsp;</span>What if there are multiple variance components?</a></span></li><li><span><a href=\"#VCSEL\" data-toc-modified-id=\"VCSEL-4\"><span class=\"toc-item-num\">4&nbsp;&nbsp;</span>VCSEL</a></span></li><li><span><a href=\"#VCSEL.jl-features\" data-toc-modified-id=\"VCSEL.jl-features-5\"><span class=\"toc-item-num\">5&nbsp;&nbsp;</span><code>VCSEL.jl</code> features</a></span></li></ul></div>"
   ]
  },
  {
   "cell_type": "markdown",
   "metadata": {},
   "source": [
    "# What is VCSEL? "
   ]
  },
  {
   "cell_type": "markdown",
   "metadata": {},
   "source": [
    "VCSEL is an [Majorization-Minimization (MM) algorithm](https://en.wikipedia.org/wiki/MM_algorithm) that selects variance components that are associated with response variable(s) via penalization method. "
   ]
  },
  {
   "cell_type": "markdown",
   "metadata": {},
   "source": [
    "## What are variance components?"
   ]
  },
  {
   "cell_type": "markdown",
   "metadata": {},
   "source": [
    "Suppose we have the following mixed model: \n",
    "\n",
    "```math\n",
    "Y = X\\beta + Z\\gamma + \\epsilon \n",
    "```\n",
    "\n",
    "where \n",
    "\n",
    "* ``Y``: ``n\\times 1`` vector of responses \n",
    "* ``X``: ``n \\times p`` known design matrix for the fixed effects \n",
    "* ``Z``: ``n \\times q`` known design matrix for the random effects \n",
    "* ``\\beta``: ``p \\times 1`` vector of unknown fixed effects  \n",
    "* ``\\gamma``: ``q \\times 1`` vector of unknown random effects with ``\\gamma \\sim \\text{Normal}(0, \\sigma_{\\gamma}^2 I_q)``\n",
    "* ``\\epsilon``: $n\\times 1$ vector of unknown random errors with $\\epsilon \\sim \\text{Normal}(0, \\sigma_{\\epsilon}^2 I_n)$ \n",
    "* ``\\gamma`` and ``\\epsilon`` are independent.\n",
    "\n",
    "Equivalently, we can write \n",
    "\n",
    "```math \n",
    "Y \\sim \\text{Normal}(X\\beta, \\sigma_{\\gamma}^2 Z Z^T + \\sigma_{\\epsilon}^2)\n",
    "```\n",
    "which states variance of the dependent variable $Y$ (aka $\\text{Var}(Y)$) equals to $\\sigma_{\\gamma}^2 Z Z^T + \\sigma_{\\epsilon}^2$. \n",
    "\n",
    "Because $\\sigma_{\\gamma}^2$ and $\\sigma_{\\epsilon}^2$ contribute to the variance of the dependent variable $Y$, they are called __variance components__. "
   ]
  },
  {
   "cell_type": "markdown",
   "metadata": {},
   "source": [
    "## Testing for zero variance component"
   ]
  },
  {
   "cell_type": "markdown",
   "metadata": {},
   "source": [
    "Suppose one wants to test whether the contribution due to the random components is significant. Then we can set up the null hypothesis \n",
    "\n",
    "```math\n",
    "H_0: \\gamma = 0\n",
    "```\n",
    "which indicates that the random components of the model (except the error term) are not significant, hence a fixed-effects model is sufficient to explain the linear relationship between the outcome variables and covariates.\n",
    "\n",
    "Note that testing ``H_0: \\gamma = 0`` is equivalent to testing if the variance component is zero\n",
    "\n",
    "```math\n",
    "H_0: \\sigma_{\\gamma}^2 = 0\n",
    "```\n",
    "which requires fewer parameters to estimate. \n",
    "\n",
    "\n",
    "\n"
   ]
  },
  {
   "cell_type": "markdown",
   "metadata": {},
   "source": [
    "## What if there are multiple variance components? \n",
    "\n",
    "Suppose that you have multiple random effects vectors and that you want to find which of those are associated with the response variable. Then you can jointly model all random effects:\n",
    "\n",
    "```math\n",
    "Y = X\\beta + Z_1\\gamma_1 + \\cdot + Z_m \\gamma_m + \\epsilon \n",
    "```\n",
    "\n",
    "where \n",
    "\n",
    "* ``Z_i``: ``n \\times q_i`` known design matrix for the random effects where $i=1,\\dots, m$\n",
    "* ``\\gamma_i \\sim \\text{Normal}(0, \\sigma_i^2 I_{q_i}), i=1,\\ldots, m``\n",
    "* ``\\epsilon \\sim \\text{Normal}(0, \\sigma_{\\epsilon}^2 I_n)``."
   ]
  },
  {
   "cell_type": "markdown",
   "metadata": {},
   "source": [
    "## VCSEL"
   ]
  },
  {
   "cell_type": "markdown",
   "metadata": {},
   "source": [
    "Now this is were VCSEL algorithm comes in. VCSEL implements [Majorization-Minimization (MM) algorithm](https://en.wikipedia.org/wiki/MM_algorithm) to select variance components that are relevant to the response $Y$. This algorithm minimizes the negative log-likelihood of the model plus a penalty using a surrogate function. For details, please see our paper. "
   ]
  },
  {
   "cell_type": "markdown",
   "metadata": {},
   "source": [
    "## `VCSEL.jl` features"
   ]
  },
  {
   "cell_type": "markdown",
   "metadata": {},
   "source": [
    "`VCSEL.jl` package can handle \n",
    "\n",
    "* univariate response model \n",
    "\n",
    "  ```math \n",
    "  Y \\sim \\text{Normal}(X\\beta, \\sigma_1^2 V_1 + \\cdot + \\sigma_m^2 V_m + \\sigma_{\\epsilon}^2 I_n\n",
    "  ```\n",
    "\n",
    "  + ``Y``: $n\\times 1$ response vector \n",
    "  + ``V_i ,i=1,\\ldots, m``: covariance matrices corresponding to each random effects vector (e.g. ``V_i = Z_i Z_i^T``). \n",
    "\n",
    "* multivariate response model \n",
    "\n",
    "  ```math \n",
    "   Y \\sim \\text{Normal}(X\\beta, \\Sigma_1 \\otimes V_1 + \\cdot + \\Sigma_m \\otimes V_m + \\Sigma_{\\epsilon} \\otimes I_n\n",
    "  ```\n",
    "\n",
    "  + ``Y``: ``n\\times d`` response matrix\n",
    "  + ``\\Sigma_i, i=1,\\ldots, m``: $d\\times d$ variance component matrices\n",
    "  + ``\\otimes``: [Kronecker product](https://en.wikipedia.org/wiki/Kronecker_product).\n",
    "\n",
    "* univariate response model with interaction terms \n",
    "\n",
    "  ```math \n",
    "  Y \\sim \\text{Normal}(X \\beta, \\sigma_{11}^2 V_{11} + \\sigma_{12}^2 V_{12} + \\cdot + \\sigma_{m1}^2 V_{m1} + \\sigma_{m2}^2 V_{m2} + \\sigma_{\\epsilon}^2 I_n)\n",
    "  ```\n",
    "\n",
    "   + ``Y``: ``n \\times 1`` response vector \n",
    "   + ``\\sigma_{i1}^2`` and ``\\sigma_{i2}^2``: pair of variance components that are selected/unselected together (``i=1,\\ldots, m``)\t\n",
    "      - ``\\sigma_{i1}^2`` represents variance component for main effects while ``\\sigma_{i2}^2`` represents variance component for interaction effects.\n"
   ]
  }
 ],
 "metadata": {
  "kernelspec": {
   "display_name": "Julia 1.4.1",
   "language": "julia",
   "name": "julia-1.4"
  },
  "language_info": {
   "file_extension": ".jl",
   "mimetype": "application/julia",
   "name": "julia",
   "version": "1.4.1"
  },
  "toc": {
   "base_numbering": 1,
   "nav_menu": {},
   "number_sections": true,
   "sideBar": true,
   "skip_h1_title": true,
   "title_cell": "Table of Contents",
   "title_sidebar": "Contents",
   "toc_cell": true,
   "toc_position": {},
   "toc_section_display": true,
   "toc_window_display": false
  }
 },
 "nbformat": 4,
 "nbformat_minor": 4
}
