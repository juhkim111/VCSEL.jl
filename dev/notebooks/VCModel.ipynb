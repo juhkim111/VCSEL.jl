{
 "cells": [
  {
   "cell_type": "markdown",
   "metadata": {},
   "source": [
    "# VCModel"
   ]
  },
  {
   "cell_type": "markdown",
   "metadata": {},
   "source": [
    "We have the following variance components model: \n",
    "\n",
    "```math\n",
    "\\text{vec}(Y) \\sim \\text{Normal}(XB, \\Sigma_1 \\otimes V_1 + \\cdots + \\Sigma_m \\otimes V_m + \\Sigma_0 \\otimes V_0),  \\hspace{8em} (1)\n",
    "```\n",
    "\n",
    "where $\\text{vec}(\\cdot)$ stacks up columns of the given matrix on top of one another.\n",
    "\n",
    "\n",
    "In the equation (1), \n",
    "\n",
    "* ``Y``: ``n\\times d`` response matrix \n",
    "* ``X``: ``n\\times p`` covariate matrix \n",
    "* ``V = (V_1,...,V_m,V_0)``: a vector of $m+1$ $n \\times n$ covariance matrices\n",
    "\n",
    "form the data and \n",
    "\n",
    "* ``B``: ``p \\times d`` mean parameter matrix that explains the effect of covariates $X$ on response $Y$\n",
    "* ``\\Sigma = (\\Sigma_1,...,\\Sigma_m,\\Sigma_0)``: a vector of $m+1$ $d \\times d$ variance components matrices \n",
    "\n",
    "are parameters. \n",
    "\n"
   ]
  },
  {
   "cell_type": "markdown",
   "metadata": {},
   "source": [
    "\n",
    "If $Y$ is a $n \\times 1 $ vector (i.e. $d=1$), (1) boils down to \n",
    "\n",
    "```math\n",
    "Y \\sim \\text{Normal}(XB, \\Sigma_1 V_1 + \\cdots + \\Sigma_m V_m + \\Sigma_0 V_0), \n",
    "```\n",
    "\n",
    "where \n",
    "\n",
    "* ``B``: ``p \\times 1`` mean parameter vector \n",
    "* ``\\Sigma_i, i=1,\\ldots, m`` represent non-negative scalar variance components. \n",
    "\n",
    "\n"
   ]
  },
  {
   "cell_type": "markdown",
   "metadata": {},
   "source": [
    "## Goal \n",
    "\n",
    "Suppose we want to identify variance components that are associated with $Y.$ This can be achieved by **VCSEL** algorithm, an MM algorithm that selects relevant variance components via penalization method. \n",
    "\n",
    "To find the estimates of parameters $(B, \\Sigma_1, \\ldots, \\Sigma_m, \\Sigma_0),$ we take 2 steps.\n",
    "\n",
    "\n"
   ]
  },
  {
   "cell_type": "markdown",
   "metadata": {},
   "source": [
    "## Steps "
   ]
  },
  {
   "cell_type": "markdown",
   "metadata": {},
   "source": [
    "### Step 0: Load the package"
   ]
  },
  {
   "cell_type": "markdown",
   "metadata": {},
   "source": [
    "Assuming the package is already installed, load the package:\n",
    "\n",
    "```julia \n",
    "using VCSEL\n",
    "```\n",
    "\n",
    "If not installed, follow the [Installation](@ref) instruction on main page. "
   ]
  },
  {
   "cell_type": "markdown",
   "metadata": {},
   "source": [
    "### Step 1: Construct a model with data\n",
    "\n",
    "Construct an instance of [`VCModel`](@ref), which requires users to supply\n",
    "\n",
    "* `Y`: `n x d` response matrix \n",
    "* `X`: `n x p` covariate matrix (if exists)\n",
    "* `V = [V1,...,Vm,V0]`: a vector of `m+1` `n x n` covariance matrices. "
   ]
  },
  {
   "cell_type": "markdown",
   "metadata": {},
   "source": [
    "Example: \n",
    "\n",
    "```julia \n",
    "# initialize VCModel instance\n",
    "vcm1 = VCModel(Y, X, V)\n",
    "vcm2 = VCModel(Y, V) # if there's no covariate matrix \n",
    "```"
   ]
  },
  {
   "cell_type": "markdown",
   "metadata": {},
   "source": [
    "`VCModel` also has the following fields for its parameters: \n",
    "\n",
    "* `B`: `p x d` mean regression coefficients \n",
    "* `Σ = [Σ[1],...,Σ[m],Σ[0]]`: variance component parameters.\n",
    "\n",
    "By default, the vector of varaince component parameters are initialized to be a vector of identity matrices (e.g. `[Matrix(1.0*I, d, d) for i in 1:(m+1)]`). Users can set initial values of variance component parameters in this step if they wish to. "
   ]
  },
  {
   "cell_type": "markdown",
   "metadata": {},
   "source": [
    "Example:\n",
    "\n",
    "```julia \n",
    "# matrix of ones as initial estimates \n",
    "Σ = [ones(d,d) for i in 1:(m+1)])\n",
    "# initialize VCModel instance with initial estimates of variance components\n",
    "vcm3 = VCModel(Y, X, V, Σ)\n",
    "vcm4 = VCModel(Y, V, Σ)\n",
    "```"
   ]
  },
  {
   "cell_type": "markdown",
   "metadata": {},
   "source": [
    "### Step 2: Fit model\n",
    "\n",
    "Call optimization routine [`vcselect!`](@ref) to select variance components at a given tuning parameter $\\lambda$ with some penalty (options: [`NoPenalty()`, `L1Penalty()`, `MCPPenalty()`](https://github.com/JuliaML/PenaltyFunctions.jl#Element-Penalties)).\n",
    "For details about the function, go to [`vcselect!`](@ref) in API page."
   ]
  },
  {
   "cell_type": "markdown",
   "metadata": {},
   "source": [
    "Example: \n",
    "\n",
    "```julia \n",
    "# fit model with lasso (L1) penalty at tuning parameter λ=1.5\n",
    "vcselect!(vcm1; penfun=L1Penalty(), λ=1.5)\n",
    "# fit model with MCP penalty at tuning parameter λ=5.5\n",
    "vcselect!(vcm2; penfun=MCPPenalty(), λ=5.5)\n",
    "```"
   ]
  },
  {
   "cell_type": "markdown",
   "metadata": {},
   "source": [
    "If penalty function is given but tuning parameter $\\lambda$ is not given, $\\lambda$ is set to 1.0. "
   ]
  },
  {
   "cell_type": "markdown",
   "metadata": {},
   "source": [
    "Example:\n",
    "\n",
    "```julia \n",
    "# following commands are equivalent \n",
    "vcselect!(vcm3; penfun=L1Penalty()) \n",
    "vcselect!(vcm3; penfun=L1Penalty(), λ=1.0) \n",
    "```"
   ]
  },
  {
   "cell_type": "markdown",
   "metadata": {},
   "source": [
    "If no penalty function is given, it fits model without any penalty, which is same as `penfun=NoPenalty()` or `λ=0`."
   ]
  },
  {
   "cell_type": "markdown",
   "metadata": {},
   "source": [
    "Example: \n",
    "\n",
    "```julia \n",
    "# following commands are equivalent \n",
    "vcselect!(vcm4)\n",
    "vcselect!(vcm4; penfun=NoPenalty())\n",
    "vcselect!(vcm4; λ=0)\n",
    "```"
   ]
  },
  {
   "cell_type": "markdown",
   "metadata": {},
   "source": [
    "Estimated parameters can be accessed using the `vcm.Σ` notation.\n",
    "\n",
    "Example:\n",
    "\n",
    "```julia\n",
    "# variance components \n",
    "vcm1.Σ\n",
    "# mean effects\n",
    "vcm1.β\n",
    "```"
   ]
  },
  {
   "cell_type": "markdown",
   "metadata": {},
   "source": [
    "### Step 2 Alternative: Get solution path\n",
    "\n",
    "If you want to fit a model over a grid of tuning parameter $\\lambda$ values (i.e. obtain solution path), use `vcselectpath!`.\n",
    "\n",
    "For details about the function, go to [`vcselectpath!`](@ref) in API page.\n",
    "\n"
   ]
  },
  {
   "cell_type": "markdown",
   "metadata": {},
   "source": [
    "If we only supply `VCModel` instance when calling `vcselectpath!`, it returns the same output as `vcselect!` with `penfun=NoPenalty()`. "
   ]
  },
  {
   "cell_type": "markdown",
   "metadata": {},
   "source": [
    "\n",
    "\n",
    "Here we call `vcselectpath!` with `penfun=L1Penalty()`. Since we do not provide `nλ` or `λpath`, a grid of 100 $λ$ values is generated internally. "
   ]
  },
  {
   "cell_type": "markdown",
   "metadata": {},
   "source": [
    "Example:\n",
    "\n",
    "```julia \n",
    "vcm = VCModel(Y, X, V)\n",
    "Σ̂path, β̂path, λpath, objpath, niterspath = vcselectpath!(vcm; \n",
    "    penfun=L1Penalty());\n",
    "```"
   ]
  },
  {
   "cell_type": "markdown",
   "metadata": {},
   "source": [
    "Or we can create a $\\lambda$ grid of our own.\n",
    "\n",
    "Example:\n",
    "\n",
    "```julia\n",
    "vcm = VCModel(Y, X, V)\n",
    "λpath = range(0, 10, length=50)\n",
    "Σ̂path, β̂path,  = vcselectpath!(vcm; penfun=L1Penalty(), λpath=λpath)\n",
    "```"
   ]
  },
  {
   "cell_type": "markdown",
   "metadata": {},
   "source": [
    "### Summarise/visualize results"
   ]
  }
 ],
 "metadata": {
  "kernelspec": {
   "display_name": "Julia 1.4.1",
   "language": "julia",
   "name": "julia-1.4"
  },
  "language_info": {
   "file_extension": ".jl",
   "mimetype": "application/julia",
   "name": "julia",
   "version": "1.4.1"
  },
  "toc": {
   "base_numbering": 1,
   "nav_menu": {},
   "number_sections": false,
   "sideBar": false,
   "skip_h1_title": true,
   "title_cell": "Table of Contents",
   "title_sidebar": "Contents",
   "toc_cell": false,
   "toc_position": {},
   "toc_section_display": true,
   "toc_window_display": false
  }
 },
 "nbformat": 4,
 "nbformat_minor": 2
}
